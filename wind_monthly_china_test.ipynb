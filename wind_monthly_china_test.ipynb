{
 "cells": [
  {
   "cell_type": "code",
   "execution_count": 32,
   "metadata": {},
   "outputs": [],
   "source": [
    "import geodata\n",
    "import xarray as xr\n",
    "import logging\n",
    "import matplotlib.pyplot as plt\n",
    "logging.basicConfig(level=logging.INFO)"
   ]
  },
  {
   "cell_type": "code",
   "execution_count": 33,
   "metadata": {},
   "outputs": [
    {
     "name": "stderr",
     "output_type": "stream",
     "text": [
      "WARNING:geodata.dataset:Bounds not used in preparing dataset. Defaulting to global.\n",
      "INFO:geodata.dataset:Directory C:/Users/User/Documents/geodata_data/merra2/ found, checking for completeness.\n",
      "INFO:geodata.dataset:Directory complete.\n"
     ]
    }
   ],
   "source": [
    "DS_monthly_chn = geodata.Dataset(module=\"merra2\",\n",
    "\t\t\t\t\t years=slice(2011, 2011),\n",
    "\t\t\t\t\t months=slice(1,1),\n",
    "                     weather_data_config = \"surface_flux_monthly\")"
   ]
  },
  {
   "cell_type": "code",
   "execution_count": 34,
   "metadata": {},
   "outputs": [],
   "source": [
    "if DS_monthly_chn.prepared == False:\n",
    "\tDS_monthly_chn.get_data()"
   ]
  },
  {
   "cell_type": "code",
   "execution_count": null,
   "metadata": {},
   "outputs": [],
   "source": []
  },
  {
   "cell_type": "code",
   "execution_count": 35,
   "metadata": {},
   "outputs": [
    {
     "data": {
      "text/plain": [
       "Data variables:\n",
       "    ustar    (time, lat, lon) float32 ...\n",
       "    z0m      (time, lat, lon) float32 ...\n",
       "    disph    (time, lat, lon) float32 ...\n",
       "    rhoa     (time, lat, lon) float32 ...\n",
       "    ulml     (time, lat, lon) float32 ...\n",
       "    vlml     (time, lat, lon) float32 ...\n",
       "    tstar    (time, lat, lon) float32 ...\n",
       "    hlml     (time, lat, lon) float32 ...\n",
       "    tlml     (time, lat, lon) float32 ...\n",
       "    pblh     (time, lat, lon) float32 ...\n",
       "    hflux    (time, lat, lon) float32 ...\n",
       "    eflux    (time, lat, lon) float32 ..."
      ]
     },
     "execution_count": 35,
     "metadata": {},
     "output_type": "execute_result"
    }
   ],
   "source": [
    "ds = xr.open_dataset(DS_monthly_chn.downloadedFiles[0][1])\n",
    "ds.data_vars"
   ]
  },
  {
   "cell_type": "code",
   "execution_count": 12,
   "metadata": {},
   "outputs": [],
   "source": [
    "DS_monthly_chn.trim_variables()"
   ]
  },
  {
   "cell_type": "code",
   "execution_count": 36,
   "metadata": {},
   "outputs": [
    {
     "data": {
      "text/plain": [
       "['ustar',\n",
       " 'z0m',\n",
       " 'disph',\n",
       " 'rhoa',\n",
       " 'ulml',\n",
       " 'vlml',\n",
       " 'tstar',\n",
       " 'hlml',\n",
       " 'tlml',\n",
       " 'pblh',\n",
       " 'hflux',\n",
       " 'eflux']"
      ]
     },
     "execution_count": 36,
     "metadata": {},
     "output_type": "execute_result"
    }
   ],
   "source": [
    "## Variables after trimming\n",
    "ds = xr.open_dataset(DS_monthly_chn.downloadedFiles[0][1])\n",
    "list(ds.data_vars)"
   ]
  },
  {
   "cell_type": "code",
   "execution_count": null,
   "metadata": {},
   "outputs": [],
   "source": []
  },
  {
   "cell_type": "code",
   "execution_count": 14,
   "metadata": {},
   "outputs": [
    {
     "name": "stderr",
     "output_type": "stream",
     "text": [
      "INFO:geodata.cutout:Cutout (china-2011-1-test, C:/Users/User/Documents/geodata_data/cutouts/) not found or incomplete.\n"
     ]
    }
   ],
   "source": [
    "## CUTOUT\n",
    "cutout = geodata.Cutout(name = \"china-2011-1-test\",\n",
    "                       module = \"merra2\",\n",
    "                       weather_data_config = \"surface_flux_monthly\",\n",
    "                       xs = slice(73, 135),\n",
    "                       ys = slice(20, 50),\n",
    "                       years = slice(2011, 2011), \n",
    "                       months = slice(1,1))"
   ]
  },
  {
   "cell_type": "code",
   "execution_count": 16,
   "metadata": {},
   "outputs": [
    {
     "name": "stderr",
     "output_type": "stream",
     "text": [
      "INFO:geodata.preparation:Starting preparation of cutout 'china-2011-1-test'\n",
      "INFO:geodata.datasets.merra2:MultiIndex([(2011, 1)],\n",
      "           names=['year', 'month'])\n",
      "INFO:geodata.datasets.merra2:[(2011, 1)]\n",
      "INFO:geodata.preparation:1 tasks have been collected. Starting running them on all processors.\n",
      "INFO:geodata.preparation:Merging variables into monthly compound files\n",
      "INFO:geodata.preparation:Cutout 'china-2011-1-test' has been successfully prepared\n"
     ]
    }
   ],
   "source": [
    "cutout.prepare()"
   ]
  },
  {
   "cell_type": "code",
   "execution_count": 17,
   "metadata": {},
   "outputs": [
    {
     "data": {
      "text/plain": [
       "{'name': 'china-2011-1-test',\n",
       " 'cutout_dir': 'C:/Users/User/Documents/geodata_data/cutouts/china-2011-1-test',\n",
       " 'prepared': True,\n",
       " 'meta_append': 0,\n",
       " 'config': 'surface_flux_monthly',\n",
       " 'meta': <xarray.Dataset>\n",
       " Dimensions:     (time: 1, x: 100, y: 61, year-month: 1)\n",
       " Coordinates:\n",
       "   * x           (x) float64 73.12 73.75 74.38 75.0 ... 133.1 133.8 134.4 135.0\n",
       "   * y           (y) float64 20.0 20.5 21.0 21.5 22.0 ... 48.5 49.0 49.5 50.0\n",
       "   * time        (time) datetime64[ns] 2011-01-01\n",
       "     lon         (x) float64 73.12 73.75 74.38 75.0 ... 133.1 133.8 134.4 135.0\n",
       "     lat         (y) float64 20.0 20.5 21.0 21.5 22.0 ... 48.5 49.0 49.5 50.0\n",
       "   * year-month  (year-month) MultiIndex\n",
       "   - year        (year-month) int64 2011\n",
       "   - month       (year-month) int64 1\n",
       " Data variables:\n",
       "     *empty*\n",
       " Attributes:\n",
       "     History:                           Original file generated: Mon Jun 22 23...\n",
       "     Filename:                          MERRA2_400.tavgM_2d_flx_Nx.201101.nc4\n",
       "     Comment:                           GMAO filename: d5124_m2_jan10.tavg1_2d...\n",
       "     Conventions:                       CF-1\n",
       "     Institution:                       NASA Global Modeling and Assimilation ...\n",
       "     References:                        http://gmao.gsfc.nasa.gov\n",
       "     Format:                            NetCDF-4/HDF-5\n",
       "     SpatialCoverage:                   global\n",
       "     VersionID:                         5.12.4\n",
       "     TemporalRange:                     1980-01-01 -> 2016-12-31\n",
       "     identifier_product_doi_authority:  http://dx.doi.org/\n",
       "     ShortName:                         M2TMNXFLX\n",
       "     RangeBeginningDate:                2011-01-01\n",
       "     RangeEndingDate:                   2011-01-31\n",
       "     GranuleID:                         MERRA2_400.tavgM_2d_flx_Nx.201101.nc4\n",
       "     ProductionDateTime:                Original file generated: Mon Jun 22 23...\n",
       "     LongName:                          MERRA2 tavg1_2d_flx_Nx: 2d,1-Hourly,Ti...\n",
       "     Title:                             MERRA2 tavg1_2d_flx_Nx: 2d,1-Hourly,Ti...\n",
       "     SouthernmostLatitude:              -90.0\n",
       "     NorthernmostLatitude:              90.0\n",
       "     WesternmostLongitude:              -180.0\n",
       "     EasternmostLongitude:              179.375\n",
       "     LatitudeResolution:                0.5\n",
       "     LongitudeResolution:               0.625\n",
       "     DataResolution:                    0.5 x 0.625\n",
       "     Source:                            CVS tag: GEOSadas-5_12_4\n",
       "     Contact:                           http://gmao.gsfc.nasa.gov\n",
       "     identifier_product_doi:            10.5067/0JRLVL8YV2Y4\n",
       "     RangeBeginningTime:                00:00:00.000000\n",
       "     RangeEndingTime:                   23:59:59.000000\n",
       "     module:                            merra2,\n",
       " 'dataset_module': <module 'geodata.datasets.merra2' from 'C:\\\\Users\\\\User\\\\anaconda3\\\\lib\\\\site-packages\\\\geodata-0.0.1-py3.8.egg\\\\geodata\\\\datasets\\\\merra2.py'>}"
      ]
     },
     "execution_count": 17,
     "metadata": {},
     "output_type": "execute_result"
    }
   ],
   "source": [
    "cutout.__dict__"
   ]
  },
  {
   "cell_type": "code",
   "execution_count": 18,
   "metadata": {},
   "outputs": [
    {
     "data": {
      "text/plain": [
       "Coordinates:\n",
       "  * x           (x) float64 73.12 73.75 74.38 75.0 ... 133.1 133.8 134.4 135.0\n",
       "  * y           (y) float64 20.0 20.5 21.0 21.5 22.0 ... 48.5 49.0 49.5 50.0\n",
       "  * time        (time) datetime64[ns] 2011-01-01\n",
       "    lon         (x) float64 73.12 73.75 74.38 75.0 ... 133.1 133.8 134.4 135.0\n",
       "    lat         (y) float64 20.0 20.5 21.0 21.5 22.0 ... 48.5 49.0 49.5 50.0\n",
       "  * year-month  (year-month) MultiIndex\n",
       "  - year        (year-month) int64 2011\n",
       "  - month       (year-month) int64 1"
      ]
     },
     "execution_count": 18,
     "metadata": {},
     "output_type": "execute_result"
    }
   ],
   "source": [
    "cutout.coords"
   ]
  },
  {
   "cell_type": "code",
   "execution_count": 31,
   "metadata": {},
   "outputs": [
    {
     "data": {
      "text/plain": [
       "<Cutout china-2011-1-test x=73.12-135.00 y=20.00-50.00 time=2011/1-2011/1 prepared>"
      ]
     },
     "execution_count": 31,
     "metadata": {},
     "output_type": "execute_result"
    }
   ],
   "source": [
    "cutout"
   ]
  },
  {
   "cell_type": "code",
   "execution_count": 42,
   "metadata": {},
   "outputs": [
    {
     "ename": "TypeError",
     "evalue": "indicatormatrix() missing 1 required positional argument: 'shapes'",
     "output_type": "error",
     "traceback": [
      "\u001b[1;31m---------------------------------------------------------------------------\u001b[0m",
      "\u001b[1;31mTypeError\u001b[0m                                 Traceback (most recent call last)",
      "\u001b[1;32m<ipython-input-42-f443aa870f0b>\u001b[0m in \u001b[0;36m<module>\u001b[1;34m\u001b[0m\n\u001b[1;32m----> 1\u001b[1;33m \u001b[0mcutout\u001b[0m\u001b[1;33m.\u001b[0m\u001b[0mindicatormatrix\u001b[0m\u001b[1;33m(\u001b[0m\u001b[1;33m)\u001b[0m\u001b[1;33m\u001b[0m\u001b[1;33m\u001b[0m\u001b[0m\n\u001b[0m",
      "\u001b[1;31mTypeError\u001b[0m: indicatormatrix() missing 1 required positional argument: 'shapes'"
     ]
    }
   ],
   "source": []
  },
  {
   "cell_type": "code",
   "execution_count": null,
   "metadata": {},
   "outputs": [],
   "source": [
    "fig, ax = plt.subplots(figsize=(7, 7))\n",
    "indicator_matrix_ir = cutout.indicatormatrix(UkIr)[0]\n",
    "\n",
    "indicator_matrix_ir = xr.DataArray(indicator_matrix_ir.toarray().reshape(cutout.shape),\n",
    "                                   dims=['lat','lon'],\n",
    "                                   coords=[cutout.coords['lat'], cutout.coords['lon']])\n",
    "indicator_matrix_ir.plot(cmap=\"Greens\", ax=ax)"
   ]
  },
  {
   "cell_type": "code",
   "execution_count": null,
   "metadata": {},
   "outputs": [],
   "source": []
  },
  {
   "cell_type": "code",
   "execution_count": 40,
   "metadata": {},
   "outputs": [
    {
     "ename": "AttributeError",
     "evalue": "'Dataset' object has no attribute 'indicatormatrix'",
     "output_type": "error",
     "traceback": [
      "\u001b[1;31m---------------------------------------------------------------------------\u001b[0m",
      "\u001b[1;31mAttributeError\u001b[0m                            Traceback (most recent call last)",
      "\u001b[1;32m<ipython-input-40-915bf4680e55>\u001b[0m in \u001b[0;36m<module>\u001b[1;34m\u001b[0m\n\u001b[0;32m      2\u001b[0m \u001b[0mgdal_ds\u001b[0m \u001b[1;33m=\u001b[0m \u001b[0mgdal\u001b[0m\u001b[1;33m.\u001b[0m\u001b[0mTranslate\u001b[0m\u001b[1;33m(\u001b[0m\u001b[1;34m'FINAL_GRID_5BINS_FOREST_MED.nc'\u001b[0m\u001b[1;33m,\u001b[0m \u001b[1;34m'FINAL_GRID_5BINS_FOREST_MED.tif'\u001b[0m\u001b[1;33m,\u001b[0m \u001b[0mformat\u001b[0m \u001b[1;33m=\u001b[0m \u001b[1;34m'NetCDF'\u001b[0m\u001b[1;33m)\u001b[0m\u001b[1;33m\u001b[0m\u001b[1;33m\u001b[0m\u001b[0m\n\u001b[0;32m      3\u001b[0m \u001b[0mxarray_ds\u001b[0m \u001b[1;33m=\u001b[0m \u001b[0mxr\u001b[0m\u001b[1;33m.\u001b[0m\u001b[0mopen_dataset\u001b[0m\u001b[1;33m(\u001b[0m\u001b[1;34m'FINAL_GRID_5BINS_FOREST_MED.nc'\u001b[0m\u001b[1;33m)\u001b[0m\u001b[1;33m\u001b[0m\u001b[1;33m\u001b[0m\u001b[0m\n\u001b[1;32m----> 4\u001b[1;33m \u001b[0mxarray_ds\u001b[0m\u001b[1;33m.\u001b[0m\u001b[0mindicatormatrix\u001b[0m\u001b[1;33m\u001b[0m\u001b[1;33m\u001b[0m\u001b[0m\n\u001b[0m",
      "\u001b[1;32m~\\anaconda3\\lib\\site-packages\\xarray\\core\\common.py\u001b[0m in \u001b[0;36m__getattr__\u001b[1;34m(self, name)\u001b[0m\n\u001b[0;32m    226\u001b[0m                 \u001b[1;32mwith\u001b[0m \u001b[0msuppress\u001b[0m\u001b[1;33m(\u001b[0m\u001b[0mKeyError\u001b[0m\u001b[1;33m)\u001b[0m\u001b[1;33m:\u001b[0m\u001b[1;33m\u001b[0m\u001b[1;33m\u001b[0m\u001b[0m\n\u001b[0;32m    227\u001b[0m                     \u001b[1;32mreturn\u001b[0m \u001b[0msource\u001b[0m\u001b[1;33m[\u001b[0m\u001b[0mname\u001b[0m\u001b[1;33m]\u001b[0m\u001b[1;33m\u001b[0m\u001b[1;33m\u001b[0m\u001b[0m\n\u001b[1;32m--> 228\u001b[1;33m         raise AttributeError(\n\u001b[0m\u001b[0;32m    229\u001b[0m             \u001b[1;34m\"{!r} object has no attribute {!r}\"\u001b[0m\u001b[1;33m.\u001b[0m\u001b[0mformat\u001b[0m\u001b[1;33m(\u001b[0m\u001b[0mtype\u001b[0m\u001b[1;33m(\u001b[0m\u001b[0mself\u001b[0m\u001b[1;33m)\u001b[0m\u001b[1;33m.\u001b[0m\u001b[0m__name__\u001b[0m\u001b[1;33m,\u001b[0m \u001b[0mname\u001b[0m\u001b[1;33m)\u001b[0m\u001b[1;33m\u001b[0m\u001b[1;33m\u001b[0m\u001b[0m\n\u001b[0;32m    230\u001b[0m         )\n",
      "\u001b[1;31mAttributeError\u001b[0m: 'Dataset' object has no attribute 'indicatormatrix'"
     ]
    }
   ],
   "source": [
    "from osgeo import gdal\n",
    "gdal_ds = gdal.Translate('FINAL_GRID_5BINS_FOREST_MED.nc', 'FINAL_GRID_5BINS_FOREST_MED.tif', format = 'NetCDF')\n",
    "xarray_ds = xr.open_dataset('FINAL_GRID_5BINS_FOREST_MED.nc')\n",
    "xarray_ds.indicatormatrix"
   ]
  },
  {
   "cell_type": "code",
   "execution_count": null,
   "metadata": {},
   "outputs": [],
   "source": []
  }
 ],
 "metadata": {
  "kernelspec": {
   "display_name": "Python 3",
   "language": "python",
   "name": "python3"
  },
  "language_info": {
   "codemirror_mode": {
    "name": "ipython",
    "version": 3
   },
   "file_extension": ".py",
   "mimetype": "text/x-python",
   "name": "python",
   "nbconvert_exporter": "python",
   "pygments_lexer": "ipython3",
   "version": "3.8.3"
  }
 },
 "nbformat": 4,
 "nbformat_minor": 4
}
